{
 "cells": [
  {
   "cell_type": "markdown",
   "id": "73a70b81",
   "metadata": {},
   "source": [
    "# Sentiment Analysis for the IMDB Reviews Dataset"
   ]
  },
  {
   "cell_type": "markdown",
   "id": "390e468f",
   "metadata": {},
   "source": [
    "# Imported libraries and frameworks"
   ]
  },
  {
   "cell_type": "code",
   "execution_count": 1,
   "id": "0a1cf693",
   "metadata": {},
   "outputs": [],
   "source": [
    "from pandas import *\n",
    "import tensorflow as tf\n",
    "import numpy as np\n",
    "\n",
    "import seaborn as sns\n",
    "import matplotlib.pyplot as plt \n",
    "\n",
    "from tensorflow.keras.preprocessing.text import Tokenizer\n",
    "from tensorflow.keras.preprocessing.sequence import pad_sequences\n"
   ]
  },
  {
   "cell_type": "markdown",
   "id": "d51b011e",
   "metadata": {},
   "source": [
    "# Read and Visualized the Dataset\n"
   ]
  },
  {
   "cell_type": "code",
   "execution_count": 2,
   "id": "b0d9408c",
   "metadata": {},
   "outputs": [
    {
     "name": "stdout",
     "output_type": "stream",
     "text": [
      "Header looks like this:\n",
      "\n",
      "review,sentiment\n",
      "\n",
      "First line looks like this:\n",
      "\n",
      "\"One of the other reviewers has mentioned that after watching just 1 Oz episode you'll be hooked. They are right, as this is exactly what happened with me.<br /><br />The first thing that struck me about Oz was its brutality and unflinching scenes of violence, which set in right from the word GO. Trust me, this is not a show for the faint hearted or timid. This show pulls no punches with regards to drugs, sex or violence. Its is hardcore, in the classic use of the word.<br /><br />It is called OZ as that is the nickname given to the Oswald Maximum Security State Penitentary. It focuses mainly on Emerald City, an experimental section of the prison where all the cells have glass fronts and face inwards, so privacy is not high on the agenda. Em City is home to many..Aryans, Muslims, gangstas, Latinos, Christians, Italians, Irish and more....so scuffles, death stares, dodgy dealings and shady agreements are never far away.<br /><br />I would say the main appeal of the show is due to the fact that it goes where other shows wouldn't dare. Forget pretty pictures painted for mainstream audiences, forget charm, forget romance...OZ doesn't mess around. The first episode I ever saw struck me as so nasty it was surreal, I couldn't say I was ready for it, but as I watched more, I developed a taste for Oz, and got accustomed to the high levels of graphic violence. Not just violence, but injustice (crooked guards who'll be sold out for a nickel, inmates who'll kill on order and get away with it, well mannered, middle class inmates being turned into prison bitches due to their lack of street skills or prison experience) Watching Oz, you may become comfortable with what is uncomfortable viewing....thats if you can get in touch with your darker side.\",positive\n",
      "\n"
     ]
    }
   ],
   "source": [
    "# Looked at the header and first line of the csv file:\n",
    "\n",
    "with open(\"./IMDB Dataset.csv\", 'r') as csvfile:\n",
    "    print(f\"Header looks like this:\\n\\n{csvfile.readline()}\")\n",
    "    print(f\"First line looks like this:\\n\\n{csvfile.readline()}\") "
   ]
  },
  {
   "cell_type": "code",
   "execution_count": 4,
   "id": "4cdcf98a",
   "metadata": {},
   "outputs": [],
   "source": [
    "# Read CSV Columns Into List using Pandas\n",
    "data = read_csv(\"./IMDB Dataset.csv\")"
   ]
  },
  {
   "cell_type": "code",
   "execution_count": 5,
   "id": "0a006ccb",
   "metadata": {},
   "outputs": [
    {
     "name": "stdout",
     "output_type": "stream",
     "text": [
      "                                              review sentiment\n",
      "0  One of the other reviewers has mentioned that ...  positive\n",
      "1  A wonderful little production. <br /><br />The...  positive\n",
      "2  I thought this was a wonderful way to spend ti...  positive\n",
      "3  Basically there's a family where a little boy ...  negative\n",
      "4  Petter Mattei's \"Love in the Time of Money\" is...  positive\n"
     ]
    }
   ],
   "source": [
    "# printing list data\n",
    "print(data.head())"
   ]
  },
  {
   "cell_type": "code",
   "execution_count": 6,
   "id": "e8160d15",
   "metadata": {},
   "outputs": [
    {
     "data": {
      "text/plain": [
       "positive    25000\n",
       "negative    25000\n",
       "Name: sentiment, dtype: int64"
      ]
     },
     "execution_count": 6,
     "metadata": {},
     "output_type": "execute_result"
    }
   ],
   "source": [
    "# Number of positive and negative reviews\n",
    "data['sentiment'].value_counts()"
   ]
  },
  {
   "cell_type": "code",
   "execution_count": 7,
   "id": "e273a502",
   "metadata": {},
   "outputs": [
    {
     "name": "stderr",
     "output_type": "stream",
     "text": [
      "C:\\Users\\paula\\anaconda3\\lib\\site-packages\\seaborn\\_decorators.py:36: FutureWarning: Pass the following variable as a keyword arg: x. From version 0.12, the only valid positional argument will be `data`, and passing other arguments without an explicit keyword will result in an error or misinterpretation.\n",
      "  warnings.warn(\n"
     ]
    },
    {
     "data": {
      "text/plain": [
       "Text(0.5, 1.0, 'Sentiment distribution')"
      ]
     },
     "execution_count": 7,
     "metadata": {},
     "output_type": "execute_result"
    },
    {
     "data": {
      "image/png": "[encoded data removed]",
      "text/plain": [
       "<Figure size 432x288 with 1 Axes>"
      ]
     },
     "metadata": {
      "needs_background": "light"
     },
     "output_type": "display_data"
    }
   ],
   "source": [
    "sns.countplot(data['sentiment'])\n",
    "plt.title(\"Sentiment distribution\")"
   ]
  },
  {
   "cell_type": "code",
   "execution_count": 8,
   "id": "6acd3ade",
   "metadata": {},
   "outputs": [
    {
     "name": "stdout",
     "output_type": "stream",
     "text": [
      "<class 'pandas.core.frame.DataFrame'>\n",
      "RangeIndex: 50000 entries, 0 to 49999\n",
      "Data columns (total 2 columns):\n",
      " #   Column     Non-Null Count  Dtype \n",
      "---  ------     --------------  ----- \n",
      " 0   review     50000 non-null  object\n",
      " 1   sentiment  50000 non-null  object\n",
      "dtypes: object(2)\n",
      "memory usage: 781.4+ KB\n"
     ]
    }
   ],
   "source": [
    "# we see that there is no null value in our data.\n",
    "data.info()"
   ]
  },
  {
   "cell_type": "markdown",
   "id": "f4cdc878",
   "metadata": {},
   "source": [
    "# Data preprocessing"
   ]
  },
  {
   "cell_type": "code",
   "execution_count": 9,
   "id": "d5cbbab7",
   "metadata": {},
   "outputs": [
    {
     "data": {
      "text/html": [
       "<div>\n",
       "<style scoped>\n",
       "    .dataframe tbody tr th:only-of-type {\n",
       "        vertical-align: middle;\n",
       "    }\n",
       "\n",
       "    .dataframe tbody tr th {\n",
       "        vertical-align: top;\n",
       "    }\n",
       "\n",
       "    .dataframe thead th {\n",
       "        text-align: right;\n",
       "    }\n",
       "</style>\n",
       "<table border=\"1\" class=\"dataframe\">\n",
       "  <thead>\n",
       "    <tr style=\"text-align: right;\">\n",
       "      <th></th>\n",
       "      <th>review</th>\n",
       "      <th>sentiment</th>\n",
       "    </tr>\n",
       "  </thead>\n",
       "  <tbody>\n",
       "    <tr>\n",
       "      <th>0</th>\n",
       "      <td>One of the other reviewers has mentioned that ...</td>\n",
       "      <td>1</td>\n",
       "    </tr>\n",
       "    <tr>\n",
       "      <th>1</th>\n",
       "      <td>A wonderful little production. &lt;br /&gt;&lt;br /&gt;The...</td>\n",
       "      <td>1</td>\n",
       "    </tr>\n",
       "    <tr>\n",
       "      <th>2</th>\n",
       "      <td>I thought this was a wonderful way to spend ti...</td>\n",
       "      <td>1</td>\n",
       "    </tr>\n",
       "    <tr>\n",
       "      <th>3</th>\n",
       "      <td>Basically there's a family where a little boy ...</td>\n",
       "      <td>0</td>\n",
       "    </tr>\n",
       "    <tr>\n",
       "      <th>4</th>\n",
       "      <td>Petter Mattei's \"Love in the Time of Money\" is...</td>\n",
       "      <td>1</td>\n",
       "    </tr>\n",
       "  </tbody>\n",
       "</table>\n",
       "</div>"
      ],
      "text/plain": [
       "                                              review  sentiment\n",
       "0  One of the other reviewers has mentioned that ...          1\n",
       "1  A wonderful little production. <br /><br />The...          1\n",
       "2  I thought this was a wonderful way to spend ti...          1\n",
       "3  Basically there's a family where a little boy ...          0\n",
       "4  Petter Mattei's \"Love in the Time of Money\" is...          1"
      ]
     },
     "execution_count": 9,
     "metadata": {},
     "output_type": "execute_result"
    }
   ],
   "source": [
    "# Used sklearn to encode the labels from positive/negative to 0/1 \n",
    "from sklearn import preprocessing\n",
    "label_encoder = preprocessing.LabelEncoder()\n",
    "data['sentiment'] = label_encoder.fit_transform(data['sentiment'])\n",
    "data.head()"
   ]
  },
  {
   "cell_type": "code",
   "execution_count": 10,
   "id": "51a4cec4",
   "metadata": {},
   "outputs": [],
   "source": [
    "# converting column data to list\n",
    "sentences = data['review'].tolist()\n",
    "labels = data['sentiment'].tolist()\n"
   ]
  },
  {
   "cell_type": "code",
   "execution_count": 11,
   "id": "6ef56e6e",
   "metadata": {},
   "outputs": [
    {
     "name": "stdout",
     "output_type": "stream",
     "text": [
      "50000\n"
     ]
    }
   ],
   "source": [
    "print(len(sentences))"
   ]
  },
  {
   "cell_type": "markdown",
   "id": "96734adc",
   "metadata": {},
   "source": [
    "# Split the Dataset"
   ]
  },
  {
   "cell_type": "code",
   "execution_count": 13,
   "id": "b3647230",
   "metadata": {},
   "outputs": [],
   "source": [
    "training_size = 45000 # 80%\n",
    "\n",
    "# Split the sentences\n",
    "training_sentences = sentences[0:training_size]\n",
    "testing_sentences = sentences[training_size:]\n",
    "\n",
    "# Split the labels\n",
    "training_labels = labels[0:training_size]\n",
    "testing_labels = labels[training_size:]"
   ]
  },
  {
   "cell_type": "markdown",
   "id": "834b0c1c",
   "metadata": {},
   "source": [
    "\n",
    "# Generated the vocabulary and padded sequences"
   ]
  },
  {
   "cell_type": "code",
   "execution_count": 14,
   "id": "7a657d49",
   "metadata": {},
   "outputs": [],
   "source": [
    "# parametres\n",
    "\n",
    "# the tokenizer takes the top 10000 words by volume and just encode those (the 10000 most common)\n",
    "vocab_size =10000\n",
    "\n",
    "# out of vocabulary \n",
    "oov_tok = \"<OOV>\"\n",
    "\n",
    "# max number of words in each sentence\n",
    "max_length = 120\n",
    "\n",
    "# loose info from the end of each sentence\n",
    "trunc_type='post'\n",
    "\n",
    "# adds zeros at the end of each sentence\n",
    "padding_type='post'\n",
    "\n",
    "# Tokenizer API\n",
    "\n",
    "# Initialized the Tokenizer class\n",
    "tokenizer = Tokenizer(num_words=vocab_size, oov_token=oov_tok)\n",
    "\n",
    "# Tokenized the input sentences\n",
    "tokenizer.fit_on_texts(training_sentences)\n",
    "\n",
    "# Generated the word index dictionary where the key is the word and the value is the token for that word\n",
    "word_index = tokenizer.word_index\n",
    "\n",
    "# Generate list of token sequences\n",
    "training_sequences = tokenizer.texts_to_sequences(training_sentences)\n",
    "\n",
    "# pad_sequences API\n",
    "\n",
    "# padded the sequences to uniform length\n",
    "training_padded = pad_sequences(training_sequences, maxlen=max_length, padding=padding_type, truncating=trunc_type)\n",
    "\n",
    "# Generate and pad the testing sequences\n",
    "testing_sequences = tokenizer.texts_to_sequences(testing_sentences)\n",
    "testing_padded = pad_sequences(testing_sequences, maxlen=max_length, padding=padding_type, truncating=trunc_type)\n",
    "\n",
    "# Convert the labels lists into numpy arrays (to be able to fit the models) the pad_sequences returns numpy arrays \n",
    "training_labels_final = np.array(training_labels)\n",
    "testing_labels_final = np.array(testing_labels)"
   ]
  },
  {
   "cell_type": "markdown",
   "id": "831a8336",
   "metadata": {},
   "source": [
    "# Built and Trained the Model"
   ]
  },
  {
   "cell_type": "markdown",
   "id": "b7a3b68a",
   "metadata": {},
   "source": [
    "# Plot to visualize the accuracy and loss history after training"
   ]
  },
  {
   "cell_type": "code",
   "execution_count": 15,
   "id": "1d9e7b92",
   "metadata": {},
   "outputs": [],
   "source": [
    "def plot_graphs(history, string):\n",
    "  plt.plot(history.history[string])\n",
    "  plt.plot(history.history['val_'+string])\n",
    "  plt.xlabel(\"Epochs\")\n",
    "  plt.ylabel(string)\n",
    "  plt.legend([string, 'val_'+string])\n",
    "  plt.show()"
   ]
  },
  {
   "cell_type": "markdown",
   "id": "856c7eb5",
   "metadata": {},
   "source": [
    "# Model 1: Flatten"
   ]
  },
  {
   "cell_type": "code",
   "execution_count": 17,
   "id": "b24bf5e4",
   "metadata": {},
   "outputs": [
    {
     "name": "stdout",
     "output_type": "stream",
     "text": [
      "Model: \"sequential\"\n",
      "_________________________________________________________________\n",
      " Layer (type)                Output Shape              Param #   \n",
      "=================================================================\n",
      " embedding (Embedding)       (None, 120, 16)           160000    \n",
      "                                                                 \n",
      " dropout (Dropout)           (None, 120, 16)           0         \n",
      "                                                                 \n",
      " flatten (Flatten)           (None, 1920)              0         \n",
      "                                                                 \n",
      " dense (Dense)               (None, 6)                 11526     \n",
      "                                                                 \n",
      " dense_1 (Dense)             (None, 1)                 7         \n",
      "                                                                 \n",
      "=================================================================\n",
      "Total params: 171,533\n",
      "Trainable params: 171,533\n",
      "Non-trainable params: 0\n",
      "_________________________________________________________________\n"
     ]
    }
   ],
   "source": [
    "# Parameters\n",
    "embedding_dim = 16\n",
    "dense_dim = 6\n",
    "dropout_rate = 0.80\n",
    "\n",
    "# Model Definition with a Flatten layer\n",
    "model_flatten = tf.keras.Sequential([\n",
    "    tf.keras.layers.Embedding(vocab_size, embedding_dim, input_length=max_length),\n",
    "    tf.keras.layers.Dropout(dropout_rate),\n",
    "    tf.keras.layers.Flatten(),\n",
    "    tf.keras.layers.Dense(dense_dim, activation='relu'),\n",
    "    tf.keras.layers.Dense(1, activation='sigmoid')\n",
    "])\n",
    "\n",
    "# Set the training parameters\n",
    "model_flatten.compile(loss='binary_crossentropy',optimizer='adam',metrics=['accuracy'])\n",
    "\n",
    "# Print the model summary\n",
    "model_flatten.summary()"
   ]
  },
  {
   "cell_type": "code",
   "execution_count": 18,
   "id": "95d0165a",
   "metadata": {},
   "outputs": [
    {
     "name": "stdout",
     "output_type": "stream",
     "text": [
      "Epoch 1/10\n",
      "352/352 [==============================] - 3s 7ms/step - loss: 0.6500 - accuracy: 0.6002 - val_loss: 0.4639 - val_accuracy: 0.8018\n",
      "Epoch 2/10\n",
      "352/352 [==============================] - 2s 6ms/step - loss: 0.4197 - accuracy: 0.8065 - val_loss: 0.3544 - val_accuracy: 0.8450\n",
      "Epoch 3/10\n",
      "352/352 [==============================] - 2s 7ms/step - loss: 0.3610 - accuracy: 0.8396 - val_loss: 0.3387 - val_accuracy: 0.8530\n",
      "Epoch 4/10\n",
      "352/352 [==============================] - 2s 7ms/step - loss: 0.3350 - accuracy: 0.8542 - val_loss: 0.3384 - val_accuracy: 0.8504\n",
      "Epoch 5/10\n",
      "352/352 [==============================] - 2s 7ms/step - loss: 0.3185 - accuracy: 0.8639 - val_loss: 0.3331 - val_accuracy: 0.8536\n",
      "Epoch 6/10\n",
      "352/352 [==============================] - 2s 7ms/step - loss: 0.3064 - accuracy: 0.8708 - val_loss: 0.3357 - val_accuracy: 0.8530\n",
      "Epoch 7/10\n",
      "352/352 [==============================] - 2s 7ms/step - loss: 0.3007 - accuracy: 0.8741 - val_loss: 0.3339 - val_accuracy: 0.8576\n",
      "Epoch 8/10\n",
      "352/352 [==============================] - 2s 7ms/step - loss: 0.2896 - accuracy: 0.8789 - val_loss: 0.3331 - val_accuracy: 0.8576\n",
      "Epoch 9/10\n",
      "352/352 [==============================] - 2s 7ms/step - loss: 0.2854 - accuracy: 0.8812 - val_loss: 0.3352 - val_accuracy: 0.8566\n",
      "Epoch 10/10\n",
      "352/352 [==============================] - 2s 7ms/step - loss: 0.2792 - accuracy: 0.8822 - val_loss: 0.3378 - val_accuracy: 0.8532\n"
     ]
    }
   ],
   "source": [
    "NUM_EPOCHS = 10\n",
    "BATCH_SIZE = 128\n",
    "\n",
    "# Train the model\n",
    "history_flatten = model_flatten.fit(training_padded, training_labels_final, batch_size=BATCH_SIZE, epochs=NUM_EPOCHS, validation_data=(testing_padded, testing_labels_final))\n"
   ]
  },
  {
   "cell_type": "code",
   "execution_count": 19,
   "id": "bac4b881",
   "metadata": {},
   "outputs": [
    {
     "data": {
      "image/png": "[encoded data removed]",
      "text/plain": [
       "<Figure size 432x288 with 1 Axes>"
      ]
     },
     "metadata": {
      "needs_background": "light"
     },
     "output_type": "display_data"
    },
    {
     "data": {
      "image/png": "[encoded data removed]",
      "text/plain": [
       "<Figure size 432x288 with 1 Axes>"
      ]
     },
     "metadata": {
      "needs_background": "light"
     },
     "output_type": "display_data"
    }
   ],
   "source": [
    "# Plot the accuracy and loss history\n",
    "plot_graphs(history_flatten, 'accuracy')\n",
    "plot_graphs(history_flatten, 'loss')"
   ]
  },
  {
   "cell_type": "markdown",
   "id": "44739cb3",
   "metadata": {},
   "source": [
    "# LSTM"
   ]
  },
  {
   "cell_type": "code",
   "execution_count": 41,
   "id": "38c12a3d",
   "metadata": {},
   "outputs": [
    {
     "name": "stdout",
     "output_type": "stream",
     "text": [
      "Model: \"sequential\"\n",
      "_________________________________________________________________\n",
      " Layer (type)                Output Shape              Param #   \n",
      "=================================================================\n",
      " embedding (Embedding)       (None, 120, 16)           160000    \n",
      "                                                                 \n",
      " dropout (Dropout)           (None, 120, 16)           0         \n",
      "                                                                 \n",
      " bidirectional (Bidirectiona  (None, 64)               12544     \n",
      " l)                                                              \n",
      "                                                                 \n",
      " dense (Dense)               (None, 6)                 390       \n",
      "                                                                 \n",
      " dense_1 (Dense)             (None, 1)                 7         \n",
      "                                                                 \n",
      "=================================================================\n",
      "Total params: 172,941\n",
      "Trainable params: 172,941\n",
      "Non-trainable params: 0\n",
      "_________________________________________________________________\n"
     ]
    }
   ],
   "source": [
    "# Parameters\n",
    "embedding_dim = 16\n",
    "lstm_dim = 32\n",
    "dense_dim = 6\n",
    "dropout_rate = 0.8\n",
    "\n",
    "# Model Definition with LSTM\n",
    "model_lstm = tf.keras.Sequential([\n",
    "    tf.keras.layers.Embedding(vocab_size, embedding_dim, input_length=max_length),\n",
    "    tf.keras.layers.Dropout(dropout_rate),\n",
    "    tf.keras.layers.Bidirectional(tf.keras.layers.LSTM(lstm_dim)),\n",
    "    tf.keras.layers.Dense(dense_dim, activation='relu'),\n",
    "    tf.keras.layers.Dense(1, activation='sigmoid')\n",
    "])\n",
    "\n",
    "# Set the training parameters\n",
    "model_lstm.compile(loss='binary_crossentropy',optimizer='adam',metrics=['accuracy'])\n",
    "\n",
    "# Print the model summary\n",
    "model_lstm.summary()"
   ]
  },
  {
   "cell_type": "code",
   "execution_count": 42,
   "id": "8f260301",
   "metadata": {},
   "outputs": [
    {
     "name": "stdout",
     "output_type": "stream",
     "text": [
      "Epoch 1/10\n",
      "352/352 [==============================] - 60s 150ms/step - loss: 0.5509 - accuracy: 0.6943 - val_loss: 0.3736 - val_accuracy: 0.8404\n",
      "Epoch 2/10\n",
      "352/352 [==============================] - 48s 136ms/step - loss: 0.3843 - accuracy: 0.8304 - val_loss: 0.3481 - val_accuracy: 0.8498\n",
      "Epoch 3/10\n",
      "352/352 [==============================] - 50s 141ms/step - loss: 0.3516 - accuracy: 0.8496 - val_loss: 0.3485 - val_accuracy: 0.8524\n",
      "Epoch 4/10\n",
      "352/352 [==============================] - 49s 140ms/step - loss: 0.3315 - accuracy: 0.8593 - val_loss: 0.3306 - val_accuracy: 0.8548\n",
      "Epoch 5/10\n",
      "352/352 [==============================] - 48s 137ms/step - loss: 0.3204 - accuracy: 0.8649 - val_loss: 0.3385 - val_accuracy: 0.8530\n",
      "Epoch 6/10\n",
      "352/352 [==============================] - 49s 138ms/step - loss: 0.3131 - accuracy: 0.8680 - val_loss: 0.3293 - val_accuracy: 0.8546\n",
      "Epoch 7/10\n",
      "352/352 [==============================] - 48s 137ms/step - loss: 0.3051 - accuracy: 0.8716 - val_loss: 0.3319 - val_accuracy: 0.8558\n",
      "Epoch 8/10\n",
      "352/352 [==============================] - 48s 135ms/step - loss: 0.2984 - accuracy: 0.8735 - val_loss: 0.3476 - val_accuracy: 0.8528\n",
      "Epoch 9/10\n",
      "352/352 [==============================] - 48s 136ms/step - loss: 0.2955 - accuracy: 0.8766 - val_loss: 0.3392 - val_accuracy: 0.8536\n",
      "Epoch 10/10\n",
      "352/352 [==============================] - 49s 138ms/step - loss: 0.2913 - accuracy: 0.8791 - val_loss: 0.3396 - val_accuracy: 0.8596\n"
     ]
    }
   ],
   "source": [
    "NUM_EPOCHS = 10\n",
    "BATCH_SIZE = 128\n",
    "\n",
    "# Train the model\n",
    "history_lstm = model_lstm.fit(training_padded, training_labels_final, batch_size=BATCH_SIZE, epochs=NUM_EPOCHS, validation_data=(testing_padded, testing_labels_final))\n"
   ]
  },
  {
   "cell_type": "code",
   "execution_count": 46,
   "id": "dbdbb2ce",
   "metadata": {},
   "outputs": [
    {
     "data": {
      "image/png": "[encoded data removed]",
      "text/plain": [
       "<Figure size 432x288 with 1 Axes>"
      ]
     },
     "metadata": {
      "needs_background": "light"
     },
     "output_type": "display_data"
    },
    {
     "data": {
      "image/png": "[encoded data removed]",
      "text/plain": [
       "<Figure size 432x288 with 1 Axes>"
      ]
     },
     "metadata": {
      "needs_background": "light"
     },
     "output_type": "display_data"
    }
   ],
   "source": [
    "# Plot the accuracy and loss history\n",
    "plot_graphs(history_lstm, 'accuracy')\n",
    "plot_graphs(history_lstm, 'loss')"
   ]
  },
  {
   "cell_type": "markdown",
   "id": "7bc5b679",
   "metadata": {},
   "source": [
    "# LSTM 2 layers"
   ]
  },
  {
   "cell_type": "code",
   "execution_count": 47,
   "id": "dbf4507d",
   "metadata": {},
   "outputs": [
    {
     "name": "stdout",
     "output_type": "stream",
     "text": [
      "Model: \"sequential_1\"\n",
      "_________________________________________________________________\n",
      " Layer (type)                Output Shape              Param #   \n",
      "=================================================================\n",
      " embedding_1 (Embedding)     (None, 120, 16)           160000    \n",
      "                                                                 \n",
      " dropout_1 (Dropout)         (None, 120, 16)           0         \n",
      "                                                                 \n",
      " bidirectional_1 (Bidirectio  (None, 120, 256)         148480    \n",
      " nal)                                                            \n",
      "                                                                 \n",
      " bidirectional_2 (Bidirectio  (None, 64)               73984     \n",
      " nal)                                                            \n",
      "                                                                 \n",
      " dense_2 (Dense)             (None, 6)                 390       \n",
      "                                                                 \n",
      " dense_3 (Dense)             (None, 1)                 7         \n",
      "                                                                 \n",
      "=================================================================\n",
      "Total params: 382,861\n",
      "Trainable params: 382,861\n",
      "Non-trainable params: 0\n",
      "_________________________________________________________________\n"
     ]
    }
   ],
   "source": [
    "# Parameters\n",
    "embedding_dim = 16\n",
    "lstm_dim = 32\n",
    "dense_dim = 6\n",
    "dropout_rate = 0.8\n",
    "\n",
    "# Model Definition with LSTM\n",
    "model_lstm = tf.keras.Sequential([\n",
    "    tf.keras.layers.Embedding(vocab_size, embedding_dim, input_length=max_length),\n",
    "    tf.keras.layers.Dropout(dropout_rate),\n",
    "    tf.keras.layers.Bidirectional(tf.keras.layers.LSTM(128,return_sequences=True)),\n",
    "    tf.keras.layers.Bidirectional(tf.keras.layers.LSTM(lstm_dim)),\n",
    "    tf.keras.layers.Dense(dense_dim, activation='relu'),\n",
    "    tf.keras.layers.Dense(1, activation='sigmoid')\n",
    "])\n",
    "\n",
    "# Set the training parameters\n",
    "model_lstm.compile(loss='binary_crossentropy',optimizer='adam',metrics=['accuracy'])\n",
    "\n",
    "\n",
    "# Print the model summary\n",
    "model_lstm.summary()"
   ]
  },
  {
   "cell_type": "code",
   "execution_count": 48,
   "id": "cbde9131",
   "metadata": {},
   "outputs": [
    {
     "name": "stdout",
     "output_type": "stream",
     "text": [
      "Epoch 1/10\n",
      "352/352 [==============================] - 337s 920ms/step - loss: 0.5446 - accuracy: 0.7141 - val_loss: 0.3858 - val_accuracy: 0.8324\n",
      "Epoch 2/10\n",
      "352/352 [==============================] - 334s 948ms/step - loss: 0.3893 - accuracy: 0.8270 - val_loss: 0.3765 - val_accuracy: 0.8276\n",
      "Epoch 3/10\n",
      "352/352 [==============================] - 369s 1s/step - loss: 0.3507 - accuracy: 0.8463 - val_loss: 0.3442 - val_accuracy: 0.8450\n",
      "Epoch 4/10\n",
      "352/352 [==============================] - 380s 1s/step - loss: 0.3330 - accuracy: 0.8567 - val_loss: 0.3380 - val_accuracy: 0.8496\n",
      "Epoch 5/10\n",
      "352/352 [==============================] - 381s 1s/step - loss: 0.3222 - accuracy: 0.8634 - val_loss: 0.3428 - val_accuracy: 0.8534\n",
      "Epoch 6/10\n",
      "352/352 [==============================] - 367s 1s/step - loss: 0.3109 - accuracy: 0.8676 - val_loss: 0.3404 - val_accuracy: 0.8500\n",
      "Epoch 7/10\n",
      "352/352 [==============================] - 370s 1s/step - loss: 0.3068 - accuracy: 0.8698 - val_loss: 0.3327 - val_accuracy: 0.8576\n",
      "Epoch 8/10\n",
      "352/352 [==============================] - 385s 1s/step - loss: 0.3011 - accuracy: 0.8732 - val_loss: 0.3323 - val_accuracy: 0.8576\n",
      "Epoch 9/10\n",
      "352/352 [==============================] - 360s 1s/step - loss: 0.2957 - accuracy: 0.8747 - val_loss: 0.3385 - val_accuracy: 0.8550\n",
      "Epoch 10/10\n",
      "352/352 [==============================] - 363s 1s/step - loss: 0.2927 - accuracy: 0.8748 - val_loss: 0.3362 - val_accuracy: 0.8538\n"
     ]
    }
   ],
   "source": [
    "NUM_EPOCHS = 10\n",
    "BATCH_SIZE = 128\n",
    "\n",
    "# Train the model\n",
    "history_lstm = model_lstm.fit(training_padded, training_labels_final, batch_size=BATCH_SIZE, epochs=NUM_EPOCHS, validation_data=(testing_padded, testing_labels_final))\n"
   ]
  },
  {
   "cell_type": "code",
   "execution_count": 49,
   "id": "3c93b879",
   "metadata": {},
   "outputs": [
    {
     "data": {
      "image/png": "[encoded data removed]",
      "text/plain": [
       "<Figure size 432x288 with 1 Axes>"
      ]
     },
     "metadata": {
      "needs_background": "light"
     },
     "output_type": "display_data"
    },
    {
     "data": {
      "image/png": "[encoded data removed]",
      "text/plain": [
       "<Figure size 432x288 with 1 Axes>"
      ]
     },
     "metadata": {
      "needs_background": "light"
     },
     "output_type": "display_data"
    }
   ],
   "source": [
    "# Plot the accuracy and loss history\n",
    "plot_graphs(history_lstm, 'accuracy')\n",
    "plot_graphs(history_lstm, 'loss')"
   ]
  },
  {
   "cell_type": "markdown",
   "id": "09ab379b",
   "metadata": {},
   "source": [
    "# GRU"
   ]
  },
  {
   "cell_type": "code",
   "execution_count": 105,
   "id": "0d7031e0",
   "metadata": {},
   "outputs": [
    {
     "name": "stdout",
     "output_type": "stream",
     "text": [
      "Model: \"sequential_23\"\n",
      "_________________________________________________________________\n",
      " Layer (type)                Output Shape              Param #   \n",
      "=================================================================\n",
      " embedding_23 (Embedding)    (None, 120, 16)           160000    \n",
      "                                                                 \n",
      " dropout_24 (Dropout)        (None, 120, 16)           0         \n",
      "                                                                 \n",
      " bidirectional_15 (Bidirecti  (None, 64)               9600      \n",
      " onal)                                                           \n",
      "                                                                 \n",
      " dense_46 (Dense)            (None, 6)                 390       \n",
      "                                                                 \n",
      " dense_47 (Dense)            (None, 1)                 7         \n",
      "                                                                 \n",
      "=================================================================\n",
      "Total params: 169,997\n",
      "Trainable params: 169,997\n",
      "Non-trainable params: 0\n",
      "_________________________________________________________________\n"
     ]
    }
   ],
   "source": [
    "import tensorflow as tf\n",
    "\n",
    "# Parameters\n",
    "embedding_dim = 16\n",
    "gru_dim = 32\n",
    "dense_dim = 6\n",
    "dropout_rate = 0.8\n",
    "\n",
    "\n",
    "# Model Definition with GRU\n",
    "model_gru = tf.keras.Sequential([\n",
    "    tf.keras.layers.Embedding(vocab_size, embedding_dim, input_length=max_length),\n",
    "    tf.keras.layers.Dropout(dropout_rate),\n",
    "    tf.keras.layers.Bidirectional(tf.keras.layers.GRU(gru_dim)),\n",
    "    tf.keras.layers.Dense(dense_dim, activation='relu'),\n",
    "    tf.keras.layers.Dense(1, activation='sigmoid')\n",
    "])\n",
    "\n",
    "# Set the training parameters\n",
    "model_gru.compile(loss='binary_crossentropy',optimizer='adam',metrics=['accuracy'])\n",
    "\n",
    "# Print the model summary\n",
    "model_gru.summary()"
   ]
  },
  {
   "cell_type": "code",
   "execution_count": 106,
   "id": "f31c1c8c",
   "metadata": {},
   "outputs": [
    {
     "name": "stdout",
     "output_type": "stream",
     "text": [
      "Epoch 1/10\n",
      "352/352 [==============================] - 50s 130ms/step - loss: 0.6406 - accuracy: 0.5983 - val_loss: 0.4523 - val_accuracy: 0.7936\n",
      "Epoch 2/10\n",
      "352/352 [==============================] - 38s 107ms/step - loss: 0.4147 - accuracy: 0.8134 - val_loss: 0.3492 - val_accuracy: 0.8450\n",
      "Epoch 3/10\n",
      "352/352 [==============================] - 38s 108ms/step - loss: 0.3581 - accuracy: 0.8440 - val_loss: 0.3472 - val_accuracy: 0.8474\n",
      "Epoch 4/10\n",
      "352/352 [==============================] - 38s 109ms/step - loss: 0.3354 - accuracy: 0.8559 - val_loss: 0.3296 - val_accuracy: 0.8576\n",
      "Epoch 5/10\n",
      "352/352 [==============================] - 39s 111ms/step - loss: 0.3190 - accuracy: 0.8638 - val_loss: 0.3273 - val_accuracy: 0.8570\n",
      "Epoch 6/10\n",
      "352/352 [==============================] - 39s 112ms/step - loss: 0.3065 - accuracy: 0.8691 - val_loss: 0.3283 - val_accuracy: 0.8572\n",
      "Epoch 7/10\n",
      "352/352 [==============================] - 41s 115ms/step - loss: 0.3028 - accuracy: 0.8716 - val_loss: 0.3235 - val_accuracy: 0.8592\n",
      "Epoch 8/10\n",
      "352/352 [==============================] - 42s 119ms/step - loss: 0.2944 - accuracy: 0.8760 - val_loss: 0.3212 - val_accuracy: 0.8620\n",
      "Epoch 9/10\n",
      "352/352 [==============================] - 42s 119ms/step - loss: 0.2892 - accuracy: 0.8782 - val_loss: 0.3348 - val_accuracy: 0.8530\n",
      "Epoch 10/10\n",
      "352/352 [==============================] - 42s 121ms/step - loss: 0.2806 - accuracy: 0.8821 - val_loss: 0.3336 - val_accuracy: 0.8572\n"
     ]
    }
   ],
   "source": [
    "NUM_EPOCHS = 10\n",
    "BATCH_SIZE = 128\n",
    "\n",
    "# Train the model\n",
    "history_gru = model_gru.fit(training_padded, training_labels_final, batch_size=BATCH_SIZE, epochs=NUM_EPOCHS, validation_data=(testing_padded, testing_labels_final))\n"
   ]
  },
  {
   "cell_type": "code",
   "execution_count": 107,
   "id": "0f47467e",
   "metadata": {},
   "outputs": [
    {
     "data": {
      "image/png": "[encoded data removed]",
      "text/plain": [
       "<Figure size 432x288 with 1 Axes>"
      ]
     },
     "metadata": {
      "needs_background": "light"
     },
     "output_type": "display_data"
    },
    {
     "data": {
      "image/png": "[encoded data removed]",
      "text/plain": [
       "<Figure size 432x288 with 1 Axes>"
      ]
     },
     "metadata": {
      "needs_background": "light"
     },
     "output_type": "display_data"
    }
   ],
   "source": [
    "# Plot the accuracy and loss history\n",
    "plot_graphs(history_gru, 'accuracy')\n",
    "plot_graphs(history_gru, 'loss')"
   ]
  },
  {
   "cell_type": "markdown",
   "id": "a069af32",
   "metadata": {},
   "source": [
    "# Convolution"
   ]
  },
  {
   "cell_type": "code",
   "execution_count": 102,
   "id": "2c965b57",
   "metadata": {},
   "outputs": [
    {
     "name": "stdout",
     "output_type": "stream",
     "text": [
      "Model: \"sequential_22\"\n",
      "_________________________________________________________________\n",
      " Layer (type)                Output Shape              Param #   \n",
      "=================================================================\n",
      " embedding_22 (Embedding)    (None, 120, 16)           160000    \n",
      "                                                                 \n",
      " dropout_23 (Dropout)        (None, 120, 16)           0         \n",
      "                                                                 \n",
      " conv1d_5 (Conv1D)           (None, 116, 128)          10368     \n",
      "                                                                 \n",
      " global_average_pooling1d_5   (None, 128)              0         \n",
      " (GlobalAveragePooling1D)                                        \n",
      "                                                                 \n",
      " dense_44 (Dense)            (None, 16)                2064      \n",
      "                                                                 \n",
      " dense_45 (Dense)            (None, 1)                 17        \n",
      "                                                                 \n",
      "=================================================================\n",
      "Total params: 172,449\n",
      "Trainable params: 172,449\n",
      "Non-trainable params: 0\n",
      "_________________________________________________________________\n"
     ]
    }
   ],
   "source": [
    "# Parameters\n",
    "embedding_dim = 16\n",
    "filters = 128\n",
    "kernel_size = 5\n",
    "dense_dim = 16\n",
    "dropout_rate = 0.8\n",
    "\n",
    "# Model Definition with Conv1D\n",
    "model_conv = tf.keras.Sequential([\n",
    "    tf.keras.layers.Embedding(vocab_size, embedding_dim, input_length=max_length),\n",
    "    tf.keras.layers.Dropout(dropout_rate),\n",
    "    tf.keras.layers.Conv1D(filters, kernel_size, activation='relu'),\n",
    "    tf.keras.layers.GlobalAveragePooling1D(),\n",
    "    tf.keras.layers.Dense(dense_dim, activation='relu'),\n",
    "    tf.keras.layers.Dense(1, activation='sigmoid')\n",
    "])\n",
    "\n",
    "\n",
    "\n",
    "# Set the training parameters\n",
    "model_conv.compile(loss='binary_crossentropy',optimizer='adam',metrics=['accuracy'])\n",
    "\n",
    "# Print the model summary\n",
    "model_conv.summary()"
   ]
  },
  {
   "cell_type": "code",
   "execution_count": 103,
   "id": "58467d5f",
   "metadata": {},
   "outputs": [
    {
     "name": "stdout",
     "output_type": "stream",
     "text": [
      "Epoch 1/10\n",
      "352/352 [==============================] - 20s 54ms/step - loss: 0.5984 - accuracy: 0.6976 - val_loss: 0.4898 - val_accuracy: 0.8236\n",
      "Epoch 2/10\n",
      "352/352 [==============================] - 19s 55ms/step - loss: 0.4709 - accuracy: 0.8254 - val_loss: 0.4374 - val_accuracy: 0.8426\n",
      "Epoch 3/10\n",
      "352/352 [==============================] - 19s 54ms/step - loss: 0.4212 - accuracy: 0.8403 - val_loss: 0.4086 - val_accuracy: 0.8448\n",
      "Epoch 4/10\n",
      "352/352 [==============================] - 19s 54ms/step - loss: 0.3881 - accuracy: 0.8517 - val_loss: 0.3909 - val_accuracy: 0.8482\n",
      "Epoch 5/10\n",
      "352/352 [==============================] - 20s 57ms/step - loss: 0.3640 - accuracy: 0.8600 - val_loss: 0.3773 - val_accuracy: 0.8502\n",
      "Epoch 6/10\n",
      "352/352 [==============================] - 20s 58ms/step - loss: 0.3467 - accuracy: 0.8647 - val_loss: 0.3668 - val_accuracy: 0.8506\n",
      "Epoch 7/10\n",
      "352/352 [==============================] - 22s 62ms/step - loss: 0.3337 - accuracy: 0.8688 - val_loss: 0.3615 - val_accuracy: 0.8488\n",
      "Epoch 8/10\n",
      "352/352 [==============================] - 20s 57ms/step - loss: 0.3256 - accuracy: 0.8705 - val_loss: 0.3641 - val_accuracy: 0.8474\n",
      "Epoch 9/10\n",
      "352/352 [==============================] - 20s 57ms/step - loss: 0.3177 - accuracy: 0.8732 - val_loss: 0.3556 - val_accuracy: 0.8550\n",
      "Epoch 10/10\n",
      "352/352 [==============================] - 22s 62ms/step - loss: 0.3085 - accuracy: 0.8764 - val_loss: 0.3528 - val_accuracy: 0.8534\n"
     ]
    }
   ],
   "source": [
    "NUM_EPOCHS = 10\n",
    "BATCH_SIZE = 128\n",
    "\n",
    "# Train the model\n",
    "history_conv = model_conv.fit(training_padded, training_labels_final, batch_size=BATCH_SIZE, epochs=NUM_EPOCHS, validation_data=(testing_padded, testing_labels_final))\n"
   ]
  },
  {
   "cell_type": "code",
   "execution_count": 104,
   "id": "561a94cd",
   "metadata": {},
   "outputs": [
    {
     "data": {
      "image/png": "[encoded data removed]",
      "text/plain": [
       "<Figure size 432x288 with 1 Axes>"
      ]
     },
     "metadata": {
      "needs_background": "light"
     },
     "output_type": "display_data"
    },
    {
     "data": {
      "image/png": "[encoded data removed]",
      "text/plain": [
       "<Figure size 432x288 with 1 Axes>"
      ]
     },
     "metadata": {
      "needs_background": "light"
     },
     "output_type": "display_data"
    }
   ],
   "source": [
    "# Plot the accuracy and loss history\n",
    "plot_graphs(history_conv, 'accuracy')\n",
    "plot_graphs(history_conv, 'loss')"
   ]
  }
 ],
 "metadata": {
  "kernelspec": {
   "display_name": "Python 3 (ipykernel)",
   "language": "python",
   "name": "python3"
  },
  "language_info": {
   "codemirror_mode": {
    "name": "ipython",
    "version": 3
   },
   "file_extension": ".py",
   "mimetype": "text/x-python",
   "name": "python",
   "nbconvert_exporter": "python",
   "pygments_lexer": "ipython3",
   "version": "3.9.7"
  }
 },
 "nbformat": 4,
 "nbformat_minor": 5
}
